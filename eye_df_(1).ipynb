{
  "cells": [
    {
      "cell_type": "markdown",
      "metadata": {
        "id": "view-in-github",
        "colab_type": "text"
      },
      "source": [
        "<a href=\"https://colab.research.google.com/github/koustubh1012/ENPM809Y_Final_project/blob/master/eye_df_(1).ipynb\" target=\"_parent\"><img src=\"https://colab.research.google.com/assets/colab-badge.svg\" alt=\"Open In Colab\"/></a>"
      ]
    },
    {
      "cell_type": "code",
      "execution_count": null,
      "metadata": {
        "id": "XqWddKAR0gAy"
      },
      "outputs": [],
      "source": [
        "import numpy as np\n",
        "import pandas as pd\n",
        "import matplotlib.pyplot as plt\n",
        "import seaborn as sns\n",
        "import warnings\n",
        "warnings.filterwarnings('ignore')\n",
        "import tensorflow as tf\n",
        "from tensorflow import keras\n",
        "from tensorflow.keras import layers\n",
        "from tensorflow.keras.models import Sequential\n",
        "from tensorflow.keras.layers import Dense, Dropout, Activation"
      ]
    },
    {
      "cell_type": "code",
      "source": [
        "# This mounts your Google Drive to the Colab VM.\n",
        "from google.colab import drive\n",
        "drive.mount('/content/drive')"
      ],
      "metadata": {
        "colab": {
          "base_uri": "https://localhost:8080/"
        },
        "id": "mwr8KS998UU6",
        "outputId": "0c377684-3c72-4e6c-e911-9591cd469ff6"
      },
      "execution_count": null,
      "outputs": [
        {
          "output_type": "stream",
          "name": "stdout",
          "text": [
            "Mounted at /content/drive\n"
          ]
        }
      ]
    },
    {
      "cell_type": "code",
      "source": [
        "FOLDERNAME = \"/ENPM703_final_project/images\"\n",
        "assert FOLDERNAME is not None, \"[!] Enter the foldername.\"\n",
        "\n",
        "import sys\n",
        "sys.path.append('/content/drive/My Drive/{}'.format(FOLDERNAME))\n",
        "\n",
        "%cd /content/drive/My Drive/$FOLDERNAME/"
      ],
      "metadata": {
        "id": "_QLoBjdl9lum",
        "colab": {
          "base_uri": "https://localhost:8080/"
        },
        "outputId": "cd95ef40-af8d-4823-b8a2-c44d5eb05189"
      },
      "execution_count": null,
      "outputs": [
        {
          "output_type": "stream",
          "name": "stdout",
          "text": [
            "/content/drive/My Drive/ENPM703_final_project/images\n"
          ]
        }
      ]
    },
    {
      "cell_type": "code",
      "execution_count": null,
      "metadata": {
        "id": "E2C4CbR81XQn"
      },
      "outputs": [],
      "source": [
        "filenames1 = [\n",
        "    \"TC001_39.png\", \"TC002_39.png\", \"TC003_37.png\", \"TC004_37.png\", \"TC005_37.png\",\n",
        "    \"TC006_33.png\", \"TC007_33.png\", \"TC008_33.png\", \"TC009_33.png\", \"TC010_52.png\",\n",
        "    \"TC016_54.png\", \"TC017_54.png\", \"TC018_54.png\", \"TC019_54.png\", \"TC020_54.png\",\n",
        "    \"TC021_52.png\", \"TC022_52.png\", \"TC023_52.png\", \"TC024_52.png\", \"TC025_52.png\",\n",
        "    \"TC026_37.png\", \"TC027_37.png\", \"TC028_30.png\", \"TC029_30.png\", \"TC030_30.png\",\n",
        "    \"TC031_36.png\", \"TC032_36.png\", \"TC033_36.png\", \"TC034_31.png\", \"TC035_31.png\",\n",
        "    \"TC036_31.png\", \"TC037_31.png\", \"TC038_39.png\", \"TC039_39.png\", \"TC040_39.png\",\n",
        "    \"TC041_39.png\", \"TC042_40.png\", \"TC043_40.png\", \"TC044_40.png\", \"TC045_40.png\",\n",
        "    \"TC046_37.png\", \"TC047_37.png\", \"TC048_37.png\", \"TC049_37.png\", \"TC050_35.png\",\n",
        "    \"TC051_35.png\", \"TC052_35.png\", \"TC053_35.png\", \"TC054_30.png\", \"TC055_30.png\",\n",
        "    \"TC056_30.png\", \"TC057_34.png\", \"TC058_34.png\", \"TC059_34.png\", \"TC060_34.png\",\n",
        "    \"TC061_50.png\", \"TC062_50.png\", \"TC063_50.png\", \"TC064_50.png\", \"TC065_50.png\",\n",
        "    \"TC066_43.png\", \"TC067_43.png\", \"TC068_43.png\", \"TC069_43.png\", \"TC070_48.png\",\n",
        "    \"TC071_48.png\", \"TC072_48.png\", \"TC073_48.png\", \"TC074_52.png\", \"TC075_52.png\",\n",
        "    \"TC076_52.png\", \"TC077_52.png\", \"TC078_52.png\", \"TC079_49.png\", \"TC080_49.png\",\n",
        "    \"TC081_49.png\", \"TC082_49.png\", \"TC083_51.png\", \"TC084_51.png\", \"TC085_51.png\",\n",
        "    \"TC086_51.png\", \"TC087_47.png\", \"TC088_47.png\", \"TC089_47.png\", \"TC090_47.png\",\n",
        "    \"TC096_54.png\", \"TC097_54.png\", \"TC098_54.png\", \"TC099_54.png\", \"TC100_54.png\",\n",
        "    \"TC101_36.png\", \"TC102_36.png\", \"TC103_36.png\", \"TC104_36.png\", \"TC105_39.png\",\n",
        "    \"TC106_39.png\", \"TC107_39.png\", \"TC108_39.png\", \"TC109_37.png\", \"TC110_37.png\",\n",
        "    \"TC111_37.png\", \"TC112_37.png\", \"TC113_33.png\", \"TC114_33.png\", \"TC115_33.png\",\n",
        "    \"TC116_35.png\", \"TC117_35.png\", \"TC118_35.png\", \"TC119_35.png\", \"TC120_30.png\",\n",
        "    \"TC121_30.png\", \"TC122_30.png\", \"TC123_30.png\", \"TC124_34.png\", \"TC125_34.png\",\n",
        "    \"TC126_34.png\", \"TC127_34.png\", \"TC128_55.png\", \"TC129_55.png\", \"TC130_47.png\",\n",
        "    \"TC131_47.png\", \"TC132_47.png\", \"TC133_47.png\", \"TC134_36.png\", \"TC135_36.png\",\n",
        "    \"TC136_36.png\", \"TC137_40.png\", \"TC138_40.png\", \"TC139_40.png\", \"TC140_40.png\",\n",
        "    \"TC141_37.png\", \"TC142_37.png\", \"TC143_37.png\", \"TC144_37.png\", \"TC145_35.png\",\n",
        "    \"TC146_35.png\", \"TC147_35.png\", \"TC148_30.png\", \"TC149_30.png\", \"TC150_30.png\",\n",
        "    \"TC151_30.png\", \"TC152_34.png\", \"TC153_34.png\", \"TC154_34.png\", \"TC155_34.png\",\n",
        "    \"TC156_36.png\", \"TC157_36.png\", \"TC158_36.png\", \"TC159_36.png\", \"TC160_39.png\",\n",
        "    \"TC161_39.png\", \"TC162_39.png\", \"TC163_39.png\", \"TC164_37.png\", \"TC165_37.png\",\n",
        "    \"TC166_37.png\", \"TC167_37.png\", \"TC168_33.png\", \"TC169_33.png\", \"TC170_33.png\",\n",
        "    \"TC171_33.png\", \"TC172_35.png\", \"TC173_35.png\", \"TC174_35.png\", \"TC175_35.png\",\n",
        "    \"TC176_30.png\", \"TC177_30.png\", \"TC178_30.png\", \"TC179_30.png\", \"TC180_34.png\",\n",
        "    \"TC181_34.png\", \"TC182_34.png\", \"TC183_34.png\", \"TC184_50.png\", \"TC185_50.png\",\n",
        "    \"TC186_50.png\", \"TC187_50.png\", \"TC188_43.png\", \"TC189_43.png\", \"TC190_43.png\",\n",
        "    \"TC191_48.png\", \"TC192_48.png\", \"TC193_48.png\", \"TC194_48.png\", \"TC195_52.png\",\n",
        "    \"TC196_52.png\", \"TC197_52.png\", \"TC198_52.png\", \"TC199_49.png\", \"TC200_49.png\",\n",
        "    \"TC201_49.png\", \"TC202_49.png\", \"TC203_51.png\", \"TC204_51.png\", \"TC205_51.png\",\n",
        "    \"TC206_51.png\", \"TC207_47.png\", \"TC208_47.png\", \"TC209_47.png\", \"TC210_47.png\",\n",
        "    \"TC216_54.png\", \"TC217_54.png\", \"TC218_54.png\", \"TC219_54.png\", \"TC220_54.png\",\n",
        "    \"TC221_50.png\", \"TC222_50.png\", \"TC223_50.png\", \"TC224_50.png\", \"TC225_52.png\",\n",
        "    \"TC226_52.png\", \"TC227_52.png\", \"TC228_52.png\", \"TC229_57.png\", \"TC230_57.png\",\n",
        "    \"TC231_57.png\", \"TC232_57.png\", \"TC233_57.png\", \"TC234_59.png\", \"TC235_59.png\",\n",
        "    \"TC236_59.png\", \"TC237_59.png\", \"TC243_57.png\", \"TC244_53.png\", \"TC245_53.png\",\n",
        "    \"TC246_53.png\", \"TC247_53.png\", \"TC248_53.png\", \"TC249_57.png\", \"TC250_57.png\",\n",
        "    \"TC251_57.png\", \"TC252_57.png\", \"TC253_57.png\", \"TC254_59.png\", \"TC255_59.png\",\n",
        "    \"TC256_59.png\", \"TC257_59.png\", \"TC263_32.png\", \"TC264_32.png\", \"TC265_32.png\",\n",
        "    \"TC266_32.png\", \"TC267_33.png\", \"TC268_33.png\", \"TC269_33.png\", \"TC270_57.png\",\n",
        "    \"TC271_57.png\", \"TC272_57.png\", \"TC273_56.png\", \"TC274_56.png\", \"TC275_56.png\",\n",
        "    \"TC276_53.png\", \"TC277_53.png\", \"TC278_32.png\", \"TC279_32.png\", \"TC280_32.png\",\n",
        "    \"TC281_32.png\", \"TC282_32.png\", \"TC283_32.png\", \"TC284_32.png\", \"TC285_32.png\",\n",
        "    \"TC286_40.png\", \"TC287_40.png\", \"TC288_40.png\", \"TC289_40.png\", \"TC290_40.png\",\n",
        "    \"TC291_40.png\", \"TC292_40.png\", \"TC293_46.png\", \"TC294_46.png\", \"TC295_46.png\",\n",
        "    \"TC296_46.png\", \"TC297_46.png\", \"TC298_40.png\", \"TC299_33.png\", \"TC300_33.png\",\n",
        "    \"TC301_33.png\", \"TC302_33.png\", \"TC303_57.png\"]"
      ]
    },
    {
      "cell_type": "code",
      "execution_count": null,
      "metadata": {
        "id": "_VmRUKZc5lbq"
      },
      "outputs": [],
      "source": [
        "filenames1.extend([\n",
        "    \"TS001_11.png\", \"TS002_11.png\", \"TS006_20.png\", \"TS007_20.png\", \"TS008_20.png\",\n",
        "    \"TS009_19.png\", \"TS010_19.png\", \"TS011_27.png\", \"TS012_15.png\", \"TS013_15.png\",\n",
        "    \"TS014_17.png\", \"TS015_17.png\", \"TS016_17.png\", \"TS020_20.png\", \"TS021_20.png\",\n",
        "    \"TS022_20.png\", \"TS023_19.png\", \"TS024_19.png\", \"TS025_19.png\", \"TS026_15.png\",\n",
        "    \"TS027_15.png\", \"TS028_18.png\", \"TS029_11.png\", \"TS030_11.png\", \"TS031_07.png\",\n",
        "    \"TS032_11.png\", \"TS033_11.png\", \"TS034_13.png\", \"TS035_13.png\", \"TS036_13.png\",\n",
        "    \"TS037_13.png\", \"TS040_20.png\", \"TS041_20.png\", \"TS042_19.png\", \"TS043_19.png\",\n",
        "    \"TS044_19.png\", \"TS045_15.png\", \"TS046_15.png\", \"TS047_17.png\", \"TS048_18.png\",\n",
        "    \"TS049_14.png\", \"TS050_14.png\", \"TS051_14.png\", \"TS052_07.png\", \"TS053_07.png\",\n",
        "    \"TS054_11.png\", \"TS055_11.png\", \"TS056_11.png\", \"TS057_13.png\", \"TS058_13.png\",\n",
        "    \"TS062_20.png\", \"TS063_20.png\", \"TS064_19.png\", \"TS065_19.png\", \"TS066_19.png\",\n",
        "    \"TS067_15.png\", \"TS068_15.png\", \"TS069_17.png\", \"TS070_18.png\", \"TS071_14.png\",\n",
        "    \"TS072_14.png\", \"TS073_07.png\", \"TS074_11.png\", \"TS075_07.png\", \"TS076_11.png\",\n",
        "    \"TS077_13.png\", \"TS078_13.png\", \"TS079_13.png\", \"TS082_20.png\", \"TS083_20.png\",\n",
        "    \"TS084_20.png\", \"TS085_19.png\", \"TS086_19.png\", \"TS087_15.png\", \"TS088_18.png\",\n",
        "    \"TS089_18.png\", \"TS090_18.png\", \"TS091_14.png\", \"TS092_14.png\", \"TS093_14.png\",\n",
        "    \"TS094_22.png\", \"TS095_22.png\", \"TS096_22.png\", \"TS097_22.png\", \"TS098_22.png\",\n",
        "    \"TS099_24.png\", \"TS100_24.png\", \"TS101_24.png\", \"TS102_24.png\", \"TS103_13.png\",\n",
        "    \"TS104_13.png\", \"TS108_20.png\", \"TS109_20.png\", \"TS110_19.png\", \"TS111_19.png\",\n",
        "    \"TS112_19.png\", \"TS113_15.png\", \"TS114_18.png\", \"TS115_18.png\", \"TS116_14.png\",\n",
        "    \"TS117_14.png\", \"TS118_09.png\", \"TS119_09.png\", \"TS120_09.png\", \"TS121_10.png\",\n",
        "    \"TS122_10.png\", \"TS123_10.png\", \"TS124_10.png\", \"TS125_03.png\", \"TS126_01.png\",\n",
        "    \"TS127_01.png\", \"TS128_01.png\", \"TS129_01.png\", \"TS130_10.png\", \"TS131_10.png\",\n",
        "    \"TS132_10.png\", \"TS133_01.png\", \"TS134_01.png\", \"TS135_05.png\", \"TS136_06.png\",\n",
        "    \"TS137_06.png\", \"TS138_06.png\", \"TS139_06.png\", \"TS140_05.png\", \"TS141_05.png\",\n",
        "    \"TS142_01.png\", \"TS143_05.png\", \"TS144_05.png\", \"TS145_05.png\", \"TS146_10.png\",\n",
        "    \"TS147_10.png\", \"TS148_10.png\", \"TS149_10.png\", \"TS150_06.png\", \"TS151_06.png\",\n",
        "    \"TS152_05.png\", \"TS153_05.png\", \"TS154_03.png\", \"TS155_03.png\", \"TS156_03.png\",\n",
        "    \"TS157_03.png\", \"TS158_02.png\", \"TS159_02.png\", \"TS160_02.png\", \"TS161_06.png\",\n",
        "    \"TS162_06.png\", \"TS163_05.png\", \"TS164_02.png\", \"TS165_02.png\", \"TS166_17.png\",\n",
        "    \"TS167_24.png\", \"TS168_24.png\", \"TS169_24.png\", \"TS170_24.png\", \"TS171_24.png\",\n",
        "    \"TS172_24.png\", \"TS173_24.png\", \"TS174_24.png\", \"TS175_17.png\", \"TS176_03.png\",\n",
        "    \"TS177_04.png\", \"TS178_03.png\", \"TS179_03.png\", \"TS180_05.png\", \"TS181_03.png\",\n",
        "    \"TS182_03.png\", \"TS183_03.png\", \"TS184_02.png\", \"TS185_01.png\", \"TS186_01.png\",\n",
        "    \"TS187_06.png\", \"TS188_05.png\", \"TS189_04.png\", \"TS190_04.png\", \"TS191_01.png\",\n",
        "    \"TS192_04.png\", \"TS193_03.png\", \"TS194_04.png\", \"TS195_09.png\", \"TS196_10.png\",\n",
        "    \"TS197_10.png\", \"TS198_10.png\", \"TS199_10.png\", \"TS200_04.png\", \"TS201_04.png\",\n",
        "    \"TS202_04.png\", \"TS203_17.png\", \"TS204_04.png\", \"TS205_04.png\", \"TS206_03.png\",\n",
        "    \"TS207_03.png\", \"TS208_02.png\", \"TS209_04.png\", \"TS210_08.png\", \"TS211_08.png\",\n",
        "    \"TS212_08.png\", \"TS213_04.png\", \"TS214_01.png\", \"TS215_06.png\", \"TS216_06.png\",\n",
        "    \"TS217_06.png\", \"TS218_08.png\", \"TS219_04.png\", \"TS220_04.png\", \"TS221_06.png\",\n",
        "    \"TS222_08.png\", \"TS223_16.png\", \"TS224_16.png\", \"TS225_29.png\", \"TS226_29.png\",\n",
        "    \"TS227_28.png\", \"TS228_28.png\", \"TS229_23.png\", \"TS230_23.png\", \"TS231_23.png\",\n",
        "    \"TS232_23.png\", \"TS233_23.png\", \"TS234_23.png\", \"TS235_12.png\"\n",
        "])"
      ]
    },
    {
      "cell_type": "code",
      "execution_count": null,
      "metadata": {
        "id": "g8zuCykEEXf-"
      },
      "outputs": [],
      "source": [
        "eye_df_data = [(filename, filename[:2]) for filename in filenames1]"
      ]
    },
    {
      "cell_type": "code",
      "execution_count": null,
      "metadata": {
        "id": "gUOCAo1_52Qo"
      },
      "outputs": [],
      "source": [
        "eye_df = pd.DataFrame(eye_df_data, columns = ['filename','label'])"
      ]
    },
    {
      "cell_type": "code",
      "execution_count": null,
      "metadata": {
        "colab": {
          "base_uri": "https://localhost:8080/",
          "height": 206
        },
        "id": "8wSxjxPH6BbH",
        "outputId": "348bec3e-60ba-4a63-b597-ba97b9a0c862"
      },
      "outputs": [
        {
          "output_type": "execute_result",
          "data": {
            "text/plain": [
              "       filename label\n",
              "0  TC001_39.png    TC\n",
              "1  TC002_39.png    TC\n",
              "2  TC003_37.png    TC\n",
              "3  TC004_37.png    TC\n",
              "4  TC005_37.png    TC"
            ],
            "text/html": [
              "\n",
              "  <div id=\"df-c6751be4-5b07-49dc-8bd3-7530419cc992\" class=\"colab-df-container\">\n",
              "    <div>\n",
              "<style scoped>\n",
              "    .dataframe tbody tr th:only-of-type {\n",
              "        vertical-align: middle;\n",
              "    }\n",
              "\n",
              "    .dataframe tbody tr th {\n",
              "        vertical-align: top;\n",
              "    }\n",
              "\n",
              "    .dataframe thead th {\n",
              "        text-align: right;\n",
              "    }\n",
              "</style>\n",
              "<table border=\"1\" class=\"dataframe\">\n",
              "  <thead>\n",
              "    <tr style=\"text-align: right;\">\n",
              "      <th></th>\n",
              "      <th>filename</th>\n",
              "      <th>label</th>\n",
              "    </tr>\n",
              "  </thead>\n",
              "  <tbody>\n",
              "    <tr>\n",
              "      <th>0</th>\n",
              "      <td>TC001_39.png</td>\n",
              "      <td>TC</td>\n",
              "    </tr>\n",
              "    <tr>\n",
              "      <th>1</th>\n",
              "      <td>TC002_39.png</td>\n",
              "      <td>TC</td>\n",
              "    </tr>\n",
              "    <tr>\n",
              "      <th>2</th>\n",
              "      <td>TC003_37.png</td>\n",
              "      <td>TC</td>\n",
              "    </tr>\n",
              "    <tr>\n",
              "      <th>3</th>\n",
              "      <td>TC004_37.png</td>\n",
              "      <td>TC</td>\n",
              "    </tr>\n",
              "    <tr>\n",
              "      <th>4</th>\n",
              "      <td>TC005_37.png</td>\n",
              "      <td>TC</td>\n",
              "    </tr>\n",
              "  </tbody>\n",
              "</table>\n",
              "</div>\n",
              "    <div class=\"colab-df-buttons\">\n",
              "\n",
              "  <div class=\"colab-df-container\">\n",
              "    <button class=\"colab-df-convert\" onclick=\"convertToInteractive('df-c6751be4-5b07-49dc-8bd3-7530419cc992')\"\n",
              "            title=\"Convert this dataframe to an interactive table.\"\n",
              "            style=\"display:none;\">\n",
              "\n",
              "  <svg xmlns=\"http://www.w3.org/2000/svg\" height=\"24px\" viewBox=\"0 -960 960 960\">\n",
              "    <path d=\"M120-120v-720h720v720H120Zm60-500h600v-160H180v160Zm220 220h160v-160H400v160Zm0 220h160v-160H400v160ZM180-400h160v-160H180v160Zm440 0h160v-160H620v160ZM180-180h160v-160H180v160Zm440 0h160v-160H620v160Z\"/>\n",
              "  </svg>\n",
              "    </button>\n",
              "\n",
              "  <style>\n",
              "    .colab-df-container {\n",
              "      display:flex;\n",
              "      gap: 12px;\n",
              "    }\n",
              "\n",
              "    .colab-df-convert {\n",
              "      background-color: #E8F0FE;\n",
              "      border: none;\n",
              "      border-radius: 50%;\n",
              "      cursor: pointer;\n",
              "      display: none;\n",
              "      fill: #1967D2;\n",
              "      height: 32px;\n",
              "      padding: 0 0 0 0;\n",
              "      width: 32px;\n",
              "    }\n",
              "\n",
              "    .colab-df-convert:hover {\n",
              "      background-color: #E2EBFA;\n",
              "      box-shadow: 0px 1px 2px rgba(60, 64, 67, 0.3), 0px 1px 3px 1px rgba(60, 64, 67, 0.15);\n",
              "      fill: #174EA6;\n",
              "    }\n",
              "\n",
              "    .colab-df-buttons div {\n",
              "      margin-bottom: 4px;\n",
              "    }\n",
              "\n",
              "    [theme=dark] .colab-df-convert {\n",
              "      background-color: #3B4455;\n",
              "      fill: #D2E3FC;\n",
              "    }\n",
              "\n",
              "    [theme=dark] .colab-df-convert:hover {\n",
              "      background-color: #434B5C;\n",
              "      box-shadow: 0px 1px 3px 1px rgba(0, 0, 0, 0.15);\n",
              "      filter: drop-shadow(0px 1px 2px rgba(0, 0, 0, 0.3));\n",
              "      fill: #FFFFFF;\n",
              "    }\n",
              "  </style>\n",
              "\n",
              "    <script>\n",
              "      const buttonEl =\n",
              "        document.querySelector('#df-c6751be4-5b07-49dc-8bd3-7530419cc992 button.colab-df-convert');\n",
              "      buttonEl.style.display =\n",
              "        google.colab.kernel.accessAllowed ? 'block' : 'none';\n",
              "\n",
              "      async function convertToInteractive(key) {\n",
              "        const element = document.querySelector('#df-c6751be4-5b07-49dc-8bd3-7530419cc992');\n",
              "        const dataTable =\n",
              "          await google.colab.kernel.invokeFunction('convertToInteractive',\n",
              "                                                    [key], {});\n",
              "        if (!dataTable) return;\n",
              "\n",
              "        const docLinkHtml = 'Like what you see? Visit the ' +\n",
              "          '<a target=\"_blank\" href=https://colab.research.google.com/notebooks/data_table.ipynb>data table notebook</a>'\n",
              "          + ' to learn more about interactive tables.';\n",
              "        element.innerHTML = '';\n",
              "        dataTable['output_type'] = 'display_data';\n",
              "        await google.colab.output.renderOutput(dataTable, element);\n",
              "        const docLink = document.createElement('div');\n",
              "        docLink.innerHTML = docLinkHtml;\n",
              "        element.appendChild(docLink);\n",
              "      }\n",
              "    </script>\n",
              "  </div>\n",
              "\n",
              "\n",
              "<div id=\"df-ca894654-fd30-405c-b508-7c7d2fbad54c\">\n",
              "  <button class=\"colab-df-quickchart\" onclick=\"quickchart('df-ca894654-fd30-405c-b508-7c7d2fbad54c')\"\n",
              "            title=\"Suggest charts\"\n",
              "            style=\"display:none;\">\n",
              "\n",
              "<svg xmlns=\"http://www.w3.org/2000/svg\" height=\"24px\"viewBox=\"0 0 24 24\"\n",
              "     width=\"24px\">\n",
              "    <g>\n",
              "        <path d=\"M19 3H5c-1.1 0-2 .9-2 2v14c0 1.1.9 2 2 2h14c1.1 0 2-.9 2-2V5c0-1.1-.9-2-2-2zM9 17H7v-7h2v7zm4 0h-2V7h2v10zm4 0h-2v-4h2v4z\"/>\n",
              "    </g>\n",
              "</svg>\n",
              "  </button>\n",
              "\n",
              "<style>\n",
              "  .colab-df-quickchart {\n",
              "      --bg-color: #E8F0FE;\n",
              "      --fill-color: #1967D2;\n",
              "      --hover-bg-color: #E2EBFA;\n",
              "      --hover-fill-color: #174EA6;\n",
              "      --disabled-fill-color: #AAA;\n",
              "      --disabled-bg-color: #DDD;\n",
              "  }\n",
              "\n",
              "  [theme=dark] .colab-df-quickchart {\n",
              "      --bg-color: #3B4455;\n",
              "      --fill-color: #D2E3FC;\n",
              "      --hover-bg-color: #434B5C;\n",
              "      --hover-fill-color: #FFFFFF;\n",
              "      --disabled-bg-color: #3B4455;\n",
              "      --disabled-fill-color: #666;\n",
              "  }\n",
              "\n",
              "  .colab-df-quickchart {\n",
              "    background-color: var(--bg-color);\n",
              "    border: none;\n",
              "    border-radius: 50%;\n",
              "    cursor: pointer;\n",
              "    display: none;\n",
              "    fill: var(--fill-color);\n",
              "    height: 32px;\n",
              "    padding: 0;\n",
              "    width: 32px;\n",
              "  }\n",
              "\n",
              "  .colab-df-quickchart:hover {\n",
              "    background-color: var(--hover-bg-color);\n",
              "    box-shadow: 0 1px 2px rgba(60, 64, 67, 0.3), 0 1px 3px 1px rgba(60, 64, 67, 0.15);\n",
              "    fill: var(--button-hover-fill-color);\n",
              "  }\n",
              "\n",
              "  .colab-df-quickchart-complete:disabled,\n",
              "  .colab-df-quickchart-complete:disabled:hover {\n",
              "    background-color: var(--disabled-bg-color);\n",
              "    fill: var(--disabled-fill-color);\n",
              "    box-shadow: none;\n",
              "  }\n",
              "\n",
              "  .colab-df-spinner {\n",
              "    border: 2px solid var(--fill-color);\n",
              "    border-color: transparent;\n",
              "    border-bottom-color: var(--fill-color);\n",
              "    animation:\n",
              "      spin 1s steps(1) infinite;\n",
              "  }\n",
              "\n",
              "  @keyframes spin {\n",
              "    0% {\n",
              "      border-color: transparent;\n",
              "      border-bottom-color: var(--fill-color);\n",
              "      border-left-color: var(--fill-color);\n",
              "    }\n",
              "    20% {\n",
              "      border-color: transparent;\n",
              "      border-left-color: var(--fill-color);\n",
              "      border-top-color: var(--fill-color);\n",
              "    }\n",
              "    30% {\n",
              "      border-color: transparent;\n",
              "      border-left-color: var(--fill-color);\n",
              "      border-top-color: var(--fill-color);\n",
              "      border-right-color: var(--fill-color);\n",
              "    }\n",
              "    40% {\n",
              "      border-color: transparent;\n",
              "      border-right-color: var(--fill-color);\n",
              "      border-top-color: var(--fill-color);\n",
              "    }\n",
              "    60% {\n",
              "      border-color: transparent;\n",
              "      border-right-color: var(--fill-color);\n",
              "    }\n",
              "    80% {\n",
              "      border-color: transparent;\n",
              "      border-right-color: var(--fill-color);\n",
              "      border-bottom-color: var(--fill-color);\n",
              "    }\n",
              "    90% {\n",
              "      border-color: transparent;\n",
              "      border-bottom-color: var(--fill-color);\n",
              "    }\n",
              "  }\n",
              "</style>\n",
              "\n",
              "  <script>\n",
              "    async function quickchart(key) {\n",
              "      const quickchartButtonEl =\n",
              "        document.querySelector('#' + key + ' button');\n",
              "      quickchartButtonEl.disabled = true;  // To prevent multiple clicks.\n",
              "      quickchartButtonEl.classList.add('colab-df-spinner');\n",
              "      try {\n",
              "        const charts = await google.colab.kernel.invokeFunction(\n",
              "            'suggestCharts', [key], {});\n",
              "      } catch (error) {\n",
              "        console.error('Error during call to suggestCharts:', error);\n",
              "      }\n",
              "      quickchartButtonEl.classList.remove('colab-df-spinner');\n",
              "      quickchartButtonEl.classList.add('colab-df-quickchart-complete');\n",
              "    }\n",
              "    (() => {\n",
              "      let quickchartButtonEl =\n",
              "        document.querySelector('#df-ca894654-fd30-405c-b508-7c7d2fbad54c button');\n",
              "      quickchartButtonEl.style.display =\n",
              "        google.colab.kernel.accessAllowed ? 'block' : 'none';\n",
              "    })();\n",
              "  </script>\n",
              "</div>\n",
              "\n",
              "    </div>\n",
              "  </div>\n"
            ],
            "application/vnd.google.colaboratory.intrinsic+json": {
              "type": "dataframe",
              "variable_name": "eye_df",
              "summary": "{\n  \"name\": \"eye_df\",\n  \"rows\": 497,\n  \"fields\": [\n    {\n      \"column\": \"filename\",\n      \"properties\": {\n        \"dtype\": \"string\",\n        \"num_unique_values\": 497,\n        \"samples\": [\n          \"TS222_08.png\",\n          \"TC079_49.png\",\n          \"TC252_57.png\"\n        ],\n        \"semantic_type\": \"\",\n        \"description\": \"\"\n      }\n    },\n    {\n      \"column\": \"label\",\n      \"properties\": {\n        \"dtype\": \"category\",\n        \"num_unique_values\": 2,\n        \"samples\": [\n          \"TS\",\n          \"TC\"\n        ],\n        \"semantic_type\": \"\",\n        \"description\": \"\"\n      }\n    }\n  ]\n}"
            }
          },
          "metadata": {},
          "execution_count": 36
        }
      ],
      "source": [
        "eye_df.head()"
      ]
    },
    {
      "cell_type": "code",
      "execution_count": null,
      "metadata": {
        "colab": {
          "base_uri": "https://localhost:8080/",
          "height": 435
        },
        "id": "v71CEmtG6kgH",
        "outputId": "667909d4-256b-4412-f18f-bc3fbaba37f5"
      },
      "outputs": [
        {
          "output_type": "display_data",
          "data": {
            "text/plain": [
              "<Figure size 640x480 with 1 Axes>"
            ],
            "image/png": "[encoded data removed]"
          },
          "metadata": {}
        }
      ],
      "source": [
        "image_path = eye_df['filename'][2]\n",
        "image = plt.imread(image_path)\n",
        "plt.imshow(image)\n",
        "plt.show()"
      ]
    },
    {
      "cell_type": "code",
      "execution_count": null,
      "metadata": {
        "id": "dVrp6k-M7g8b"
      },
      "outputs": [],
      "source": [
        "X = eye_df['filename']\n",
        "y = eye_df['label']"
      ]
    },
    {
      "cell_type": "code",
      "execution_count": null,
      "metadata": {
        "colab": {
          "base_uri": "https://localhost:8080/",
          "height": 178
        },
        "id": "UZ0AgpdiWhRS",
        "outputId": "08c3c632-1ce4-452d-a7f6-29528d5f1056"
      },
      "outputs": [
        {
          "output_type": "execute_result",
          "data": {
            "text/plain": [
              "label\n",
              "TC    278\n",
              "TS    219\n",
              "Name: count, dtype: int64"
            ],
            "text/html": [
              "<div>\n",
              "<style scoped>\n",
              "    .dataframe tbody tr th:only-of-type {\n",
              "        vertical-align: middle;\n",
              "    }\n",
              "\n",
              "    .dataframe tbody tr th {\n",
              "        vertical-align: top;\n",
              "    }\n",
              "\n",
              "    .dataframe thead th {\n",
              "        text-align: right;\n",
              "    }\n",
              "</style>\n",
              "<table border=\"1\" class=\"dataframe\">\n",
              "  <thead>\n",
              "    <tr style=\"text-align: right;\">\n",
              "      <th></th>\n",
              "      <th>count</th>\n",
              "    </tr>\n",
              "    <tr>\n",
              "      <th>label</th>\n",
              "      <th></th>\n",
              "    </tr>\n",
              "  </thead>\n",
              "  <tbody>\n",
              "    <tr>\n",
              "      <th>TC</th>\n",
              "      <td>278</td>\n",
              "    </tr>\n",
              "    <tr>\n",
              "      <th>TS</th>\n",
              "      <td>219</td>\n",
              "    </tr>\n",
              "  </tbody>\n",
              "</table>\n",
              "</div><br><label><b>dtype:</b> int64</label>"
            ]
          },
          "metadata": {},
          "execution_count": 39
        }
      ],
      "source": [
        "y.value_counts()"
      ]
    },
    {
      "cell_type": "code",
      "execution_count": null,
      "metadata": {
        "id": "pfEqrvtx-OZ8"
      },
      "outputs": [],
      "source": [
        "import pandas as pd\n",
        "from sklearn.model_selection import train_test_split\n",
        "from sklearn.preprocessing import LabelEncoder\n",
        "import tensorflow as tf\n",
        "from tensorflow.keras import layers, Sequential\n",
        "from tensorflow.keras.utils import load_img, img_to_array\n",
        "\n",
        "image_height = 64\n",
        "image_width = 64\n",
        "\n",
        "def preprocess_image(image_path):\n",
        "    image = load_img(image_path, target_size=(image_height, image_width))\n",
        "    image = img_to_array(image)\n",
        "    image = image / 255.0\n",
        "    return image\n",
        "\n",
        "\n",
        "X_processed = [preprocess_image(image_path) for image_path in eye_df['filename']]\n",
        "X = tf.stack(X_processed)\n",
        "X = X.numpy()\n",
        "\n",
        "label_encoder = LabelEncoder()\n",
        "y = label_encoder.fit_transform(eye_df['label'])\n",
        "\n",
        "X_train, X_test, y_train, y_test = train_test_split(X, y, test_size=0.20, random_state=42, stratify=y)\n"
      ]
    },
    {
      "cell_type": "code",
      "execution_count": null,
      "metadata": {
        "id": "IqY9EAHxRrkh"
      },
      "outputs": [],
      "source": [
        "data_augmentation = Sequential([\n",
        "    layers.RandomFlip(\"horizontal\", input_shape=(image_height, image_width, 3)),\n",
        "    layers.RandomRotation(0.1),\n",
        "    layers.RandomZoom(0.1),\n",
        "    layers.RandomContrast(0.1),\n",
        "    layers.RandomTranslation(0.1, 0.1),\n",
        "])"
      ]
    },
    {
      "cell_type": "code",
      "execution_count": null,
      "metadata": {
        "colab": {
          "base_uri": "https://localhost:8080/"
        },
        "id": "MZnKoFctO-iZ",
        "outputId": "955fd042-a75f-495f-bf5f-494e033a4608"
      },
      "outputs": [
        {
          "output_type": "stream",
          "name": "stdout",
          "text": [
            "Epoch 1/100\n",
            "\u001b[1m13/13\u001b[0m \u001b[32m━━━━━━━━━━━━━━━━━━━━\u001b[0m\u001b[37m\u001b[0m \u001b[1m6s\u001b[0m 78ms/step - accuracy: 0.5096 - loss: 11.0457 - val_accuracy: 0.5600 - val_loss: 10.1375\n",
            "Epoch 2/100\n",
            "\u001b[1m13/13\u001b[0m \u001b[32m━━━━━━━━━━━━━━━━━━━━\u001b[0m\u001b[37m\u001b[0m \u001b[1m2s\u001b[0m 33ms/step - accuracy: 0.5010 - loss: 10.7306 - val_accuracy: 0.5600 - val_loss: 10.0817\n",
            "Epoch 3/100\n",
            "\u001b[1m13/13\u001b[0m \u001b[32m━━━━━━━━━━━━━━━━━━━━\u001b[0m\u001b[37m\u001b[0m \u001b[1m0s\u001b[0m 25ms/step - accuracy: 0.5514 - loss: 10.4266 - val_accuracy: 0.5600 - val_loss: 10.0318\n",
            "Epoch 4/100\n",
            "\u001b[1m13/13\u001b[0m \u001b[32m━━━━━━━━━━━━━━━━━━━━\u001b[0m\u001b[37m\u001b[0m \u001b[1m1s\u001b[0m 25ms/step - accuracy: 0.4623 - loss: 10.6658 - val_accuracy: 0.5600 - val_loss: 9.9924\n",
            "Epoch 5/100\n",
            "\u001b[1m13/13\u001b[0m \u001b[32m━━━━━━━━━━━━━━━━━━━━\u001b[0m\u001b[37m\u001b[0m \u001b[1m1s\u001b[0m 35ms/step - accuracy: 0.5795 - loss: 10.2025 - val_accuracy: 0.5600 - val_loss: 9.9612\n",
            "Epoch 6/100\n",
            "\u001b[1m13/13\u001b[0m \u001b[32m━━━━━━━━━━━━━━━━━━━━\u001b[0m\u001b[37m\u001b[0m \u001b[1m0s\u001b[0m 36ms/step - accuracy: 0.6103 - loss: 10.1426 - val_accuracy: 0.5600 - val_loss: 9.9369\n",
            "Epoch 7/100\n",
            "\u001b[1m13/13\u001b[0m \u001b[32m━━━━━━━━━━━━━━━━━━━━\u001b[0m\u001b[37m\u001b[0m \u001b[1m0s\u001b[0m 34ms/step - accuracy: 0.5613 - loss: 10.2304 - val_accuracy: 0.5600 - val_loss: 9.9175\n",
            "Epoch 8/100\n",
            "\u001b[1m13/13\u001b[0m \u001b[32m━━━━━━━━━━━━━━━━━━━━\u001b[0m\u001b[37m\u001b[0m \u001b[1m1s\u001b[0m 36ms/step - accuracy: 0.5391 - loss: 10.0809 - val_accuracy: 0.5600 - val_loss: 9.9021\n",
            "Epoch 9/100\n",
            "\u001b[1m13/13\u001b[0m \u001b[32m━━━━━━━━━━━━━━━━━━━━\u001b[0m\u001b[37m\u001b[0m \u001b[1m0s\u001b[0m 24ms/step - accuracy: 0.6245 - loss: 9.8565 - val_accuracy: 0.5600 - val_loss: 9.8898\n",
            "Epoch 10/100\n",
            "\u001b[1m13/13\u001b[0m \u001b[32m━━━━━━━━━━━━━━━━━━━━\u001b[0m\u001b[37m\u001b[0m \u001b[1m0s\u001b[0m 26ms/step - accuracy: 0.6384 - loss: 9.7429 - val_accuracy: 0.5600 - val_loss: 9.8798\n",
            "Epoch 11/100\n",
            "\u001b[1m13/13\u001b[0m \u001b[32m━━━━━━━━━━━━━━━━━━━━\u001b[0m\u001b[37m\u001b[0m \u001b[1m1s\u001b[0m 23ms/step - accuracy: 0.5481 - loss: 9.8722 - val_accuracy: 0.5600 - val_loss: 9.8807\n",
            "Epoch 12/100\n",
            "\u001b[1m13/13\u001b[0m \u001b[32m━━━━━━━━━━━━━━━━━━━━\u001b[0m\u001b[37m\u001b[0m \u001b[1m1s\u001b[0m 24ms/step - accuracy: 0.5771 - loss: 9.7346 - val_accuracy: 0.5600 - val_loss: 9.8819\n",
            "Epoch 13/100\n",
            "\u001b[1m13/13\u001b[0m \u001b[32m━━━━━━━━━━━━━━━━━━━━\u001b[0m\u001b[37m\u001b[0m \u001b[1m0s\u001b[0m 23ms/step - accuracy: 0.6003 - loss: 9.6759 - val_accuracy: 0.5600 - val_loss: 9.8842\n",
            "Epoch 14/100\n",
            "\u001b[1m13/13\u001b[0m \u001b[32m━━━━━━━━━━━━━━━━━━━━\u001b[0m\u001b[37m\u001b[0m \u001b[1m1s\u001b[0m 24ms/step - accuracy: 0.6203 - loss: 9.5374 - val_accuracy: 0.5600 - val_loss: 9.8765\n",
            "Epoch 15/100\n",
            "\u001b[1m13/13\u001b[0m \u001b[32m━━━━━━━━━━━━━━━━━━━━\u001b[0m\u001b[37m\u001b[0m \u001b[1m0s\u001b[0m 24ms/step - accuracy: 0.5892 - loss: 9.5272 - val_accuracy: 0.5600 - val_loss: 9.8749\n",
            "Epoch 16/100\n",
            "\u001b[1m13/13\u001b[0m \u001b[32m━━━━━━━━━━━━━━━━━━━━\u001b[0m\u001b[37m\u001b[0m \u001b[1m1s\u001b[0m 24ms/step - accuracy: 0.6456 - loss: 9.3981 - val_accuracy: 0.5600 - val_loss: 9.8686\n",
            "Epoch 17/100\n",
            "\u001b[1m13/13\u001b[0m \u001b[32m━━━━━━━━━━━━━━━━━━━━\u001b[0m\u001b[37m\u001b[0m \u001b[1m1s\u001b[0m 28ms/step - accuracy: 0.6251 - loss: 9.4492 - val_accuracy: 0.5600 - val_loss: 9.8465\n",
            "Epoch 18/100\n",
            "\u001b[1m13/13\u001b[0m \u001b[32m━━━━━━━━━━━━━━━━━━━━\u001b[0m\u001b[37m\u001b[0m \u001b[1m0s\u001b[0m 24ms/step - accuracy: 0.5922 - loss: 9.3492 - val_accuracy: 0.5600 - val_loss: 9.8303\n",
            "Epoch 19/100\n",
            "\u001b[1m13/13\u001b[0m \u001b[32m━━━━━━━━━━━━━━━━━━━━\u001b[0m\u001b[37m\u001b[0m \u001b[1m1s\u001b[0m 24ms/step - accuracy: 0.6326 - loss: 9.2849 - val_accuracy: 0.5600 - val_loss: 9.8174\n",
            "Epoch 20/100\n",
            "\u001b[1m13/13\u001b[0m \u001b[32m━━━━━━━━━━━━━━━━━━━━\u001b[0m\u001b[37m\u001b[0m \u001b[1m0s\u001b[0m 24ms/step - accuracy: 0.6465 - loss: 9.2085 - val_accuracy: 0.5600 - val_loss: 9.7913\n",
            "Epoch 21/100\n",
            "\u001b[1m13/13\u001b[0m \u001b[32m━━━━━━━━━━━━━━━━━━━━\u001b[0m\u001b[37m\u001b[0m \u001b[1m1s\u001b[0m 26ms/step - accuracy: 0.6159 - loss: 9.1781 - val_accuracy: 0.5600 - val_loss: 9.7554\n",
            "Epoch 22/100\n",
            "\u001b[1m13/13\u001b[0m \u001b[32m━━━━━━━━━━━━━━━━━━━━\u001b[0m\u001b[37m\u001b[0m \u001b[1m0s\u001b[0m 25ms/step - accuracy: 0.6442 - loss: 9.0603 - val_accuracy: 0.5600 - val_loss: 9.7245\n",
            "Epoch 23/100\n",
            "\u001b[1m13/13\u001b[0m \u001b[32m━━━━━━━━━━━━━━━━━━━━\u001b[0m\u001b[37m\u001b[0m \u001b[1m1s\u001b[0m 25ms/step - accuracy: 0.6195 - loss: 9.0435 - val_accuracy: 0.5600 - val_loss: 9.6835\n",
            "Epoch 24/100\n",
            "\u001b[1m13/13\u001b[0m \u001b[32m━━━━━━━━━━━━━━━━━━━━\u001b[0m\u001b[37m\u001b[0m \u001b[1m1s\u001b[0m 24ms/step - accuracy: 0.6500 - loss: 8.9688 - val_accuracy: 0.5600 - val_loss: 9.6602\n",
            "Epoch 25/100\n",
            "\u001b[1m13/13\u001b[0m \u001b[32m━━━━━━━━━━━━━━━━━━━━\u001b[0m\u001b[37m\u001b[0m \u001b[1m0s\u001b[0m 24ms/step - accuracy: 0.5908 - loss: 8.9621 - val_accuracy: 0.5600 - val_loss: 9.6261\n",
            "Epoch 26/100\n",
            "\u001b[1m13/13\u001b[0m \u001b[32m━━━━━━━━━━━━━━━━━━━━\u001b[0m\u001b[37m\u001b[0m \u001b[1m1s\u001b[0m 24ms/step - accuracy: 0.6035 - loss: 8.9308 - val_accuracy: 0.5600 - val_loss: 9.5852\n",
            "Epoch 27/100\n",
            "\u001b[1m13/13\u001b[0m \u001b[32m━━━━━━━━━━━━━━━━━━━━\u001b[0m\u001b[37m\u001b[0m \u001b[1m0s\u001b[0m 24ms/step - accuracy: 0.6823 - loss: 8.7340 - val_accuracy: 0.5600 - val_loss: 9.5387\n",
            "Epoch 28/100\n",
            "\u001b[1m13/13\u001b[0m \u001b[32m━━━━━━━━━━━━━━━━━━━━\u001b[0m\u001b[37m\u001b[0m \u001b[1m1s\u001b[0m 24ms/step - accuracy: 0.5836 - loss: 8.7629 - val_accuracy: 0.5600 - val_loss: 9.4872\n",
            "Epoch 29/100\n",
            "\u001b[1m13/13\u001b[0m \u001b[32m━━━━━━━━━━━━━━━━━━━━\u001b[0m\u001b[37m\u001b[0m \u001b[1m0s\u001b[0m 36ms/step - accuracy: 0.5859 - loss: 8.6658 - val_accuracy: 0.5600 - val_loss: 9.4452\n",
            "Epoch 30/100\n",
            "\u001b[1m13/13\u001b[0m \u001b[32m━━━━━━━━━━━━━━━━━━━━\u001b[0m\u001b[37m\u001b[0m \u001b[1m0s\u001b[0m 33ms/step - accuracy: 0.5932 - loss: 8.6764 - val_accuracy: 0.5600 - val_loss: 9.3939\n",
            "Epoch 31/100\n",
            "\u001b[1m13/13\u001b[0m \u001b[32m━━━━━━━━━━━━━━━━━━━━\u001b[0m\u001b[37m\u001b[0m \u001b[1m0s\u001b[0m 33ms/step - accuracy: 0.7026 - loss: 8.5490 - val_accuracy: 0.5600 - val_loss: 9.3263\n",
            "Epoch 32/100\n",
            "\u001b[1m13/13\u001b[0m \u001b[32m━━━━━━━━━━━━━━━━━━━━\u001b[0m\u001b[37m\u001b[0m \u001b[1m1s\u001b[0m 38ms/step - accuracy: 0.6373 - loss: 8.5136 - val_accuracy: 0.5600 - val_loss: 9.2640\n",
            "Epoch 33/100\n",
            "\u001b[1m13/13\u001b[0m \u001b[32m━━━━━━━━━━━━━━━━━━━━\u001b[0m\u001b[37m\u001b[0m \u001b[1m1s\u001b[0m 38ms/step - accuracy: 0.6939 - loss: 8.4140 - val_accuracy: 0.5600 - val_loss: 9.1922\n",
            "Epoch 34/100\n",
            "\u001b[1m13/13\u001b[0m \u001b[32m━━━━━━━━━━━━━━━━━━━━\u001b[0m\u001b[37m\u001b[0m \u001b[1m0s\u001b[0m 32ms/step - accuracy: 0.6662 - loss: 8.3862 - val_accuracy: 0.5600 - val_loss: 9.1197\n",
            "Epoch 35/100\n",
            "\u001b[1m13/13\u001b[0m \u001b[32m━━━━━━━━━━━━━━━━━━━━\u001b[0m\u001b[37m\u001b[0m \u001b[1m1s\u001b[0m 24ms/step - accuracy: 0.7031 - loss: 8.3724 - val_accuracy: 0.5600 - val_loss: 9.0379\n",
            "Epoch 36/100\n",
            "\u001b[1m13/13\u001b[0m \u001b[32m━━━━━━━━━━━━━━━━━━━━\u001b[0m\u001b[37m\u001b[0m \u001b[1m1s\u001b[0m 24ms/step - accuracy: 0.6340 - loss: 8.3032 - val_accuracy: 0.5600 - val_loss: 8.9585\n",
            "Epoch 37/100\n",
            "\u001b[1m13/13\u001b[0m \u001b[32m━━━━━━━━━━━━━━━━━━━━\u001b[0m\u001b[37m\u001b[0m \u001b[1m0s\u001b[0m 26ms/step - accuracy: 0.6060 - loss: 8.2996 - val_accuracy: 0.5600 - val_loss: 8.8864\n",
            "Epoch 38/100\n",
            "\u001b[1m13/13\u001b[0m \u001b[32m━━━━━━━━━━━━━━━━━━━━\u001b[0m\u001b[37m\u001b[0m \u001b[1m0s\u001b[0m 24ms/step - accuracy: 0.7241 - loss: 8.1762 - val_accuracy: 0.5600 - val_loss: 8.7904\n",
            "Epoch 39/100\n",
            "\u001b[1m13/13\u001b[0m \u001b[32m━━━━━━━━━━━━━━━━━━━━\u001b[0m\u001b[37m\u001b[0m \u001b[1m0s\u001b[0m 24ms/step - accuracy: 0.6951 - loss: 8.0939 - val_accuracy: 0.5600 - val_loss: 8.6913\n",
            "Epoch 40/100\n",
            "\u001b[1m13/13\u001b[0m \u001b[32m━━━━━━━━━━━━━━━━━━━━\u001b[0m\u001b[37m\u001b[0m \u001b[1m1s\u001b[0m 24ms/step - accuracy: 0.6552 - loss: 8.1103 - val_accuracy: 0.5600 - val_loss: 8.5921\n",
            "Epoch 41/100\n",
            "\u001b[1m13/13\u001b[0m \u001b[32m━━━━━━━━━━━━━━━━━━━━\u001b[0m\u001b[37m\u001b[0m \u001b[1m0s\u001b[0m 24ms/step - accuracy: 0.6733 - loss: 8.0203 - val_accuracy: 0.5600 - val_loss: 8.4992\n",
            "Epoch 42/100\n",
            "\u001b[1m13/13\u001b[0m \u001b[32m━━━━━━━━━━━━━━━━━━━━\u001b[0m\u001b[37m\u001b[0m \u001b[1m0s\u001b[0m 25ms/step - accuracy: 0.6534 - loss: 7.9697 - val_accuracy: 0.5600 - val_loss: 8.4031\n",
            "Epoch 43/100\n",
            "\u001b[1m13/13\u001b[0m \u001b[32m━━━━━━━━━━━━━━━━━━━━\u001b[0m\u001b[37m\u001b[0m \u001b[1m0s\u001b[0m 24ms/step - accuracy: 0.7184 - loss: 7.9003 - val_accuracy: 0.5600 - val_loss: 8.3052\n",
            "Epoch 44/100\n",
            "\u001b[1m13/13\u001b[0m \u001b[32m━━━━━━━━━━━━━━━━━━━━\u001b[0m\u001b[37m\u001b[0m \u001b[1m0s\u001b[0m 25ms/step - accuracy: 0.6770 - loss: 7.8638 - val_accuracy: 0.5600 - val_loss: 8.2149\n",
            "Epoch 45/100\n",
            "\u001b[1m13/13\u001b[0m \u001b[32m━━━━━━━━━━━━━━━━━━━━\u001b[0m\u001b[37m\u001b[0m \u001b[1m0s\u001b[0m 26ms/step - accuracy: 0.6691 - loss: 7.8443 - val_accuracy: 0.5700 - val_loss: 8.1267\n",
            "Epoch 46/100\n",
            "\u001b[1m13/13\u001b[0m \u001b[32m━━━━━━━━━━━━━━━━━━━━\u001b[0m\u001b[37m\u001b[0m \u001b[1m0s\u001b[0m 25ms/step - accuracy: 0.6974 - loss: 7.7174 - val_accuracy: 0.5700 - val_loss: 8.0380\n",
            "Epoch 47/100\n",
            "\u001b[1m13/13\u001b[0m \u001b[32m━━━━━━━━━━━━━━━━━━━━\u001b[0m\u001b[37m\u001b[0m \u001b[1m1s\u001b[0m 25ms/step - accuracy: 0.6399 - loss: 7.7371 - val_accuracy: 0.5800 - val_loss: 7.9442\n",
            "Epoch 48/100\n",
            "\u001b[1m13/13\u001b[0m \u001b[32m━━━━━━━━━━━━━━━━━━━━\u001b[0m\u001b[37m\u001b[0m \u001b[1m0s\u001b[0m 24ms/step - accuracy: 0.6488 - loss: 7.7116 - val_accuracy: 0.5800 - val_loss: 7.8554\n",
            "Epoch 49/100\n",
            "\u001b[1m13/13\u001b[0m \u001b[32m━━━━━━━━━━━━━━━━━━━━\u001b[0m\u001b[37m\u001b[0m \u001b[1m0s\u001b[0m 25ms/step - accuracy: 0.6628 - loss: 7.6429 - val_accuracy: 0.5800 - val_loss: 7.7679\n",
            "Epoch 50/100\n",
            "\u001b[1m13/13\u001b[0m \u001b[32m━━━━━━━━━━━━━━━━━━━━\u001b[0m\u001b[37m\u001b[0m \u001b[1m1s\u001b[0m 25ms/step - accuracy: 0.7092 - loss: 7.4919 - val_accuracy: 0.5800 - val_loss: 7.6932\n",
            "Epoch 51/100\n",
            "\u001b[1m13/13\u001b[0m \u001b[32m━━━━━━━━━━━━━━━━━━━━\u001b[0m\u001b[37m\u001b[0m \u001b[1m0s\u001b[0m 25ms/step - accuracy: 0.6936 - loss: 7.5009 - val_accuracy: 0.5800 - val_loss: 7.6219\n",
            "Epoch 52/100\n",
            "\u001b[1m13/13\u001b[0m \u001b[32m━━━━━━━━━━━━━━━━━━━━\u001b[0m\u001b[37m\u001b[0m \u001b[1m0s\u001b[0m 25ms/step - accuracy: 0.6783 - loss: 7.4736 - val_accuracy: 0.5900 - val_loss: 7.5480\n",
            "Epoch 53/100\n",
            "\u001b[1m13/13\u001b[0m \u001b[32m━━━━━━━━━━━━━━━━━━━━\u001b[0m\u001b[37m\u001b[0m \u001b[1m0s\u001b[0m 25ms/step - accuracy: 0.6590 - loss: 7.3991 - val_accuracy: 0.6100 - val_loss: 7.4820\n",
            "Epoch 54/100\n",
            "\u001b[1m13/13\u001b[0m \u001b[32m━━━━━━━━━━━━━━━━━━━━\u001b[0m\u001b[37m\u001b[0m \u001b[1m0s\u001b[0m 25ms/step - accuracy: 0.6587 - loss: 7.3530 - val_accuracy: 0.6400 - val_loss: 7.4136\n",
            "Epoch 55/100\n",
            "\u001b[1m13/13\u001b[0m \u001b[32m━━━━━━━━━━━━━━━━━━━━\u001b[0m\u001b[37m\u001b[0m \u001b[1m1s\u001b[0m 24ms/step - accuracy: 0.7218 - loss: 7.2608 - val_accuracy: 0.6400 - val_loss: 7.3475\n",
            "Epoch 56/100\n",
            "\u001b[1m13/13\u001b[0m \u001b[32m━━━━━━━━━━━━━━━━━━━━\u001b[0m\u001b[37m\u001b[0m \u001b[1m1s\u001b[0m 25ms/step - accuracy: 0.6437 - loss: 7.2639 - val_accuracy: 0.6400 - val_loss: 7.2822\n",
            "Epoch 57/100\n",
            "\u001b[1m13/13\u001b[0m \u001b[32m━━━━━━━━━━━━━━━━━━━━\u001b[0m\u001b[37m\u001b[0m \u001b[1m0s\u001b[0m 28ms/step - accuracy: 0.7106 - loss: 7.2238 - val_accuracy: 0.6400 - val_loss: 7.2259\n",
            "Epoch 58/100\n",
            "\u001b[1m13/13\u001b[0m \u001b[32m━━━━━━━━━━━━━━━━━━━━\u001b[0m\u001b[37m\u001b[0m \u001b[1m0s\u001b[0m 35ms/step - accuracy: 0.7053 - loss: 7.1301 - val_accuracy: 0.6500 - val_loss: 7.1681\n",
            "Epoch 59/100\n",
            "\u001b[1m13/13\u001b[0m \u001b[32m━━━━━━━━━━━━━━━━━━━━\u001b[0m\u001b[37m\u001b[0m \u001b[1m1s\u001b[0m 35ms/step - accuracy: 0.7156 - loss: 7.1076 - val_accuracy: 0.6500 - val_loss: 7.1103\n",
            "Epoch 60/100\n",
            "\u001b[1m13/13\u001b[0m \u001b[32m━━━━━━━━━━━━━━━━━━━━\u001b[0m\u001b[37m\u001b[0m \u001b[1m0s\u001b[0m 37ms/step - accuracy: 0.7065 - loss: 7.0322 - val_accuracy: 0.6500 - val_loss: 7.0568\n",
            "Epoch 61/100\n",
            "\u001b[1m13/13\u001b[0m \u001b[32m━━━━━━━━━━━━━━━━━━━━\u001b[0m\u001b[37m\u001b[0m \u001b[1m1s\u001b[0m 36ms/step - accuracy: 0.6659 - loss: 7.0449 - val_accuracy: 0.6500 - val_loss: 7.0115\n",
            "Epoch 62/100\n",
            "\u001b[1m13/13\u001b[0m \u001b[32m━━━━━━━━━━━━━━━━━━━━\u001b[0m\u001b[37m\u001b[0m \u001b[1m0s\u001b[0m 35ms/step - accuracy: 0.6707 - loss: 6.9827 - val_accuracy: 0.6700 - val_loss: 6.9615\n",
            "Epoch 63/100\n",
            "\u001b[1m13/13\u001b[0m \u001b[32m━━━━━━━━━━━━━━━━━━━━\u001b[0m\u001b[37m\u001b[0m \u001b[1m0s\u001b[0m 25ms/step - accuracy: 0.6343 - loss: 6.9271 - val_accuracy: 0.6700 - val_loss: 6.9056\n",
            "Epoch 64/100\n",
            "\u001b[1m13/13\u001b[0m \u001b[32m━━━━━━━━━━━━━━━━━━━━\u001b[0m\u001b[37m\u001b[0m \u001b[1m0s\u001b[0m 29ms/step - accuracy: 0.6883 - loss: 6.8986 - val_accuracy: 0.6700 - val_loss: 6.8547\n",
            "Epoch 65/100\n",
            "\u001b[1m13/13\u001b[0m \u001b[32m━━━━━━━━━━━━━━━━━━━━\u001b[0m\u001b[37m\u001b[0m \u001b[1m0s\u001b[0m 25ms/step - accuracy: 0.6854 - loss: 6.8191 - val_accuracy: 0.6700 - val_loss: 6.8056\n",
            "Epoch 66/100\n",
            "\u001b[1m13/13\u001b[0m \u001b[32m━━━━━━━━━━━━━━━━━━━━\u001b[0m\u001b[37m\u001b[0m \u001b[1m1s\u001b[0m 25ms/step - accuracy: 0.6546 - loss: 6.8170 - val_accuracy: 0.6700 - val_loss: 6.7551\n",
            "Epoch 67/100\n",
            "\u001b[1m13/13\u001b[0m \u001b[32m━━━━━━━━━━━━━━━━━━━━\u001b[0m\u001b[37m\u001b[0m \u001b[1m0s\u001b[0m 26ms/step - accuracy: 0.6615 - loss: 6.7369 - val_accuracy: 0.6800 - val_loss: 6.7104\n",
            "Epoch 68/100\n",
            "\u001b[1m13/13\u001b[0m \u001b[32m━━━━━━━━━━━━━━━━━━━━\u001b[0m\u001b[37m\u001b[0m \u001b[1m0s\u001b[0m 24ms/step - accuracy: 0.7041 - loss: 6.6681 - val_accuracy: 0.6700 - val_loss: 6.6667\n",
            "Epoch 69/100\n",
            "\u001b[1m13/13\u001b[0m \u001b[32m━━━━━━━━━━━━━━━━━━━━\u001b[0m\u001b[37m\u001b[0m \u001b[1m0s\u001b[0m 24ms/step - accuracy: 0.7097 - loss: 6.6052 - val_accuracy: 0.6700 - val_loss: 6.6197\n",
            "Epoch 70/100\n",
            "\u001b[1m13/13\u001b[0m \u001b[32m━━━━━━━━━━━━━━━━━━━━\u001b[0m\u001b[37m\u001b[0m \u001b[1m0s\u001b[0m 26ms/step - accuracy: 0.7128 - loss: 6.6228 - val_accuracy: 0.6800 - val_loss: 6.5734\n",
            "Epoch 71/100\n",
            "\u001b[1m13/13\u001b[0m \u001b[32m━━━━━━━━━━━━━━━━━━━━\u001b[0m\u001b[37m\u001b[0m \u001b[1m0s\u001b[0m 26ms/step - accuracy: 0.7201 - loss: 6.5153 - val_accuracy: 0.6900 - val_loss: 6.5276\n",
            "Epoch 72/100\n",
            "\u001b[1m13/13\u001b[0m \u001b[32m━━━━━━━━━━━━━━━━━━━━\u001b[0m\u001b[37m\u001b[0m \u001b[1m0s\u001b[0m 28ms/step - accuracy: 0.6974 - loss: 6.5114 - val_accuracy: 0.6900 - val_loss: 6.4796\n",
            "Epoch 73/100\n",
            "\u001b[1m13/13\u001b[0m \u001b[32m━━━━━━━━━━━━━━━━━━━━\u001b[0m\u001b[37m\u001b[0m \u001b[1m1s\u001b[0m 24ms/step - accuracy: 0.7077 - loss: 6.4179 - val_accuracy: 0.6900 - val_loss: 6.4363\n",
            "Epoch 74/100\n",
            "\u001b[1m13/13\u001b[0m \u001b[32m━━━━━━━━━━━━━━━━━━━━\u001b[0m\u001b[37m\u001b[0m \u001b[1m0s\u001b[0m 24ms/step - accuracy: 0.6860 - loss: 6.4481 - val_accuracy: 0.6900 - val_loss: 6.3915\n",
            "Epoch 75/100\n",
            "\u001b[1m13/13\u001b[0m \u001b[32m━━━━━━━━━━━━━━━━━━━━\u001b[0m\u001b[37m\u001b[0m \u001b[1m1s\u001b[0m 24ms/step - accuracy: 0.6672 - loss: 6.3953 - val_accuracy: 0.7000 - val_loss: 6.3453\n",
            "Epoch 76/100\n",
            "\u001b[1m13/13\u001b[0m \u001b[32m━━━━━━━━━━━━━━━━━━━━\u001b[0m\u001b[37m\u001b[0m \u001b[1m0s\u001b[0m 25ms/step - accuracy: 0.6777 - loss: 6.3218 - val_accuracy: 0.7000 - val_loss: 6.2974\n",
            "Epoch 77/100\n",
            "\u001b[1m13/13\u001b[0m \u001b[32m━━━━━━━━━━━━━━━━━━━━\u001b[0m\u001b[37m\u001b[0m \u001b[1m1s\u001b[0m 24ms/step - accuracy: 0.6925 - loss: 6.2673 - val_accuracy: 0.7000 - val_loss: 6.2511\n",
            "Epoch 78/100\n",
            "\u001b[1m13/13\u001b[0m \u001b[32m━━━━━━━━━━━━━━━━━━━━\u001b[0m\u001b[37m\u001b[0m \u001b[1m0s\u001b[0m 25ms/step - accuracy: 0.6606 - loss: 6.2483 - val_accuracy: 0.7000 - val_loss: 6.2076\n",
            "Epoch 79/100\n",
            "\u001b[1m13/13\u001b[0m \u001b[32m━━━━━━━━━━━━━━━━━━━━\u001b[0m\u001b[37m\u001b[0m \u001b[1m0s\u001b[0m 26ms/step - accuracy: 0.7063 - loss: 6.1685 - val_accuracy: 0.7100 - val_loss: 6.1600\n",
            "Epoch 80/100\n",
            "\u001b[1m13/13\u001b[0m \u001b[32m━━━━━━━━━━━━━━━━━━━━\u001b[0m\u001b[37m\u001b[0m \u001b[1m0s\u001b[0m 25ms/step - accuracy: 0.7204 - loss: 6.1311 - val_accuracy: 0.7200 - val_loss: 6.1138\n",
            "Epoch 81/100\n",
            "\u001b[1m13/13\u001b[0m \u001b[32m━━━━━━━━━━━━━━━━━━━━\u001b[0m\u001b[37m\u001b[0m \u001b[1m1s\u001b[0m 26ms/step - accuracy: 0.7214 - loss: 6.0795 - val_accuracy: 0.7200 - val_loss: 6.0733\n",
            "Epoch 82/100\n",
            "\u001b[1m13/13\u001b[0m \u001b[32m━━━━━━━━━━━━━━━━━━━━\u001b[0m\u001b[37m\u001b[0m \u001b[1m1s\u001b[0m 24ms/step - accuracy: 0.7434 - loss: 6.0347 - val_accuracy: 0.7200 - val_loss: 6.0320\n",
            "Epoch 83/100\n",
            "\u001b[1m13/13\u001b[0m \u001b[32m━━━━━━━━━━━━━━━━━━━━\u001b[0m\u001b[37m\u001b[0m \u001b[1m1s\u001b[0m 24ms/step - accuracy: 0.7003 - loss: 6.0050 - val_accuracy: 0.7200 - val_loss: 5.9923\n",
            "Epoch 84/100\n",
            "\u001b[1m13/13\u001b[0m \u001b[32m━━━━━━━━━━━━━━━━━━━━\u001b[0m\u001b[37m\u001b[0m \u001b[1m0s\u001b[0m 24ms/step - accuracy: 0.7147 - loss: 5.9926 - val_accuracy: 0.7300 - val_loss: 5.9497\n",
            "Epoch 85/100\n",
            "\u001b[1m13/13\u001b[0m \u001b[32m━━━━━━━━━━━━━━━━━━━━\u001b[0m\u001b[37m\u001b[0m \u001b[1m0s\u001b[0m 26ms/step - accuracy: 0.7074 - loss: 5.9142 - val_accuracy: 0.7200 - val_loss: 5.9091\n",
            "Epoch 86/100\n",
            "\u001b[1m13/13\u001b[0m \u001b[32m━━━━━━━━━━━━━━━━━━━━\u001b[0m\u001b[37m\u001b[0m \u001b[1m1s\u001b[0m 32ms/step - accuracy: 0.6469 - loss: 5.9287 - val_accuracy: 0.7200 - val_loss: 5.8668\n",
            "Epoch 87/100\n",
            "\u001b[1m13/13\u001b[0m \u001b[32m━━━━━━━━━━━━━━━━━━━━\u001b[0m\u001b[37m\u001b[0m \u001b[1m0s\u001b[0m 35ms/step - accuracy: 0.6856 - loss: 5.8880 - val_accuracy: 0.7200 - val_loss: 5.8217\n",
            "Epoch 88/100\n",
            "\u001b[1m13/13\u001b[0m \u001b[32m━━━━━━━━━━━━━━━━━━━━\u001b[0m\u001b[37m\u001b[0m \u001b[1m1s\u001b[0m 38ms/step - accuracy: 0.7026 - loss: 5.8785 - val_accuracy: 0.7200 - val_loss: 5.7825\n",
            "Epoch 89/100\n",
            "\u001b[1m13/13\u001b[0m \u001b[32m━━━━━━━━━━━━━━━━━━━━\u001b[0m\u001b[37m\u001b[0m \u001b[1m1s\u001b[0m 39ms/step - accuracy: 0.6958 - loss: 5.7569 - val_accuracy: 0.7200 - val_loss: 5.7460\n",
            "Epoch 90/100\n",
            "\u001b[1m13/13\u001b[0m \u001b[32m━━━━━━━━━━━━━━━━━━━━\u001b[0m\u001b[37m\u001b[0m \u001b[1m0s\u001b[0m 25ms/step - accuracy: 0.6863 - loss: 5.7918 - val_accuracy: 0.7200 - val_loss: 5.7043\n",
            "Epoch 91/100\n",
            "\u001b[1m13/13\u001b[0m \u001b[32m━━━━━━━━━━━━━━━━━━━━\u001b[0m\u001b[37m\u001b[0m \u001b[1m0s\u001b[0m 25ms/step - accuracy: 0.7240 - loss: 5.6658 - val_accuracy: 0.7200 - val_loss: 5.6623\n",
            "Epoch 92/100\n",
            "\u001b[1m13/13\u001b[0m \u001b[32m━━━━━━━━━━━━━━━━━━━━\u001b[0m\u001b[37m\u001b[0m \u001b[1m0s\u001b[0m 25ms/step - accuracy: 0.7289 - loss: 5.6082 - val_accuracy: 0.7200 - val_loss: 5.6235\n",
            "Epoch 93/100\n",
            "\u001b[1m13/13\u001b[0m \u001b[32m━━━━━━━━━━━━━━━━━━━━\u001b[0m\u001b[37m\u001b[0m \u001b[1m1s\u001b[0m 25ms/step - accuracy: 0.7015 - loss: 5.6010 - val_accuracy: 0.7200 - val_loss: 5.5835\n",
            "Epoch 94/100\n",
            "\u001b[1m13/13\u001b[0m \u001b[32m━━━━━━━━━━━━━━━━━━━━\u001b[0m\u001b[37m\u001b[0m \u001b[1m0s\u001b[0m 25ms/step - accuracy: 0.6796 - loss: 5.5911 - val_accuracy: 0.7300 - val_loss: 5.5405\n",
            "Epoch 95/100\n",
            "\u001b[1m13/13\u001b[0m \u001b[32m━━━━━━━━━━━━━━━━━━━━\u001b[0m\u001b[37m\u001b[0m \u001b[1m1s\u001b[0m 25ms/step - accuracy: 0.6984 - loss: 5.5508 - val_accuracy: 0.7300 - val_loss: 5.5048\n",
            "Epoch 96/100\n",
            "\u001b[1m13/13\u001b[0m \u001b[32m━━━━━━━━━━━━━━━━━━━━\u001b[0m\u001b[37m\u001b[0m \u001b[1m0s\u001b[0m 26ms/step - accuracy: 0.7059 - loss: 5.4786 - val_accuracy: 0.7200 - val_loss: 5.4746\n",
            "Epoch 97/100\n",
            "\u001b[1m13/13\u001b[0m \u001b[32m━━━━━━━━━━━━━━━━━━━━\u001b[0m\u001b[37m\u001b[0m \u001b[1m1s\u001b[0m 28ms/step - accuracy: 0.6944 - loss: 5.4840 - val_accuracy: 0.7300 - val_loss: 5.4321\n",
            "Epoch 98/100\n",
            "\u001b[1m13/13\u001b[0m \u001b[32m━━━━━━━━━━━━━━━━━━━━\u001b[0m\u001b[37m\u001b[0m \u001b[1m1s\u001b[0m 24ms/step - accuracy: 0.7017 - loss: 5.4177 - val_accuracy: 0.7300 - val_loss: 5.3890\n",
            "Epoch 99/100\n",
            "\u001b[1m13/13\u001b[0m \u001b[32m━━━━━━━━━━━━━━━━━━━━\u001b[0m\u001b[37m\u001b[0m \u001b[1m0s\u001b[0m 25ms/step - accuracy: 0.6761 - loss: 5.4432 - val_accuracy: 0.7300 - val_loss: 5.3503\n",
            "Epoch 100/100\n",
            "\u001b[1m13/13\u001b[0m \u001b[32m━━━━━━━━━━━━━━━━━━━━\u001b[0m\u001b[37m\u001b[0m \u001b[1m0s\u001b[0m 28ms/step - accuracy: 0.7114 - loss: 5.3469 - val_accuracy: 0.7300 - val_loss: 5.3169\n"
          ]
        },
        {
          "output_type": "execute_result",
          "data": {
            "text/plain": [
              "<keras.src.callbacks.history.History at 0x78ae2c6d7b80>"
            ]
          },
          "metadata": {},
          "execution_count": 46
        }
      ],
      "source": [
        "from tensorflow.keras import regularizers\n",
        "from tensorflow.keras.optimizers import Adam\n",
        "from tensorflow.keras.callbacks import EarlyStopping\n",
        "\n",
        "model = Sequential([\n",
        "    data_augmentation,\n",
        "    layers.Conv2D(64, kernel_size=(3, 3), padding='same', activation='relu', kernel_regularizer=regularizers.l2(0.03), input_shape=(image_height, image_width, 3)),\n",
        "    layers.BatchNormalization(),\n",
        "    layers.MaxPooling2D(),\n",
        "    layers.Dropout(0.5),\n",
        "    layers.Conv2D(32, kernel_size=(3, 3), padding='same', activation='relu', kernel_regularizer=regularizers.l2(0.03)),\n",
        "    layers.BatchNormalization(),\n",
        "    layers.MaxPooling2D(),\n",
        "    layers.Dropout(0.5),\n",
        "    layers.Conv2D(32, kernel_size=(3, 3), padding='same', activation='relu', kernel_regularizer=regularizers.l2(0.03)),\n",
        "    layers.BatchNormalization(),\n",
        "    layers.MaxPooling2D(),\n",
        "    layers.Dropout(0.5),\n",
        "    layers.Conv2D(64, kernel_size=(3, 3), padding='same', activation='relu', kernel_regularizer=regularizers.l2(0.03)),\n",
        "    layers.BatchNormalization(),\n",
        "    layers.MaxPooling2D(),\n",
        "    layers.Flatten(),\n",
        "    layers.Dense(256, activation='relu', kernel_regularizer=regularizers.l2(0.01)),\n",
        "    layers.Dropout(0.5),\n",
        "    layers.Dense(128, activation='relu', kernel_regularizer=regularizers.l2(0.01)),\n",
        "    layers.Dropout(0.5),\n",
        "    layers.Dense(1, activation='sigmoid'),\n",
        "])\n",
        "optimizer = Adam(learning_rate=0.0001)\n",
        "\n",
        "model.compile(\n",
        "    optimizer=optimizer,\n",
        "    loss='binary_crossentropy',\n",
        "    metrics=['accuracy']\n",
        ")\n",
        "\n",
        "early_stopping = EarlyStopping(monitor='val_loss', patience=5, restore_best_weights=True)\n",
        "model.fit(X_train, y_train, epochs=100, validation_data=(X_test, y_test), callbacks=[early_stopping])"
      ]
    },
    {
      "cell_type": "code",
      "execution_count": null,
      "metadata": {
        "colab": {
          "base_uri": "https://localhost:8080/"
        },
        "id": "Jd7K4HmiOcHD",
        "outputId": "0fe28520-9b48-42fc-8498-a1aac4299ad2"
      },
      "outputs": [
        {
          "output_type": "stream",
          "name": "stdout",
          "text": [
            "\u001b[1m4/4\u001b[0m \u001b[32m━━━━━━━━━━━━━━━━━━━━\u001b[0m\u001b[37m\u001b[0m \u001b[1m0s\u001b[0m 8ms/step - accuracy: 0.7264 - loss: 5.3325 \n"
          ]
        },
        {
          "output_type": "execute_result",
          "data": {
            "text/plain": [
              "[5.316863536834717, 0.7300000190734863]"
            ]
          },
          "metadata": {},
          "execution_count": 47
        }
      ],
      "source": [
        "model.evaluate(X_test, y_test)"
      ]
    },
    {
      "cell_type": "code",
      "execution_count": null,
      "metadata": {
        "colab": {
          "base_uri": "https://localhost:8080/"
        },
        "id": "CYUUC_SIWSxp",
        "outputId": "d677ebd7-32eb-4ac9-aef7-1c6811b674e2"
      },
      "outputs": [
        {
          "output_type": "stream",
          "name": "stdout",
          "text": [
            "\u001b[1m4/4\u001b[0m \u001b[32m━━━━━━━━━━━━━━━━━━━━\u001b[0m\u001b[37m\u001b[0m \u001b[1m0s\u001b[0m 29ms/step\n",
            "              precision    recall  f1-score   support\n",
            "\n",
            "           0       0.74      0.82      0.78        56\n",
            "           1       0.74      0.64      0.68        44\n",
            "\n",
            "    accuracy                           0.74       100\n",
            "   macro avg       0.74      0.73      0.73       100\n",
            "weighted avg       0.74      0.74      0.74       100\n",
            "\n"
          ]
        }
      ],
      "source": [
        "\n",
        "from sklearn.metrics import classification_report\n",
        "y_pred = model.predict(X_test)\n",
        "y_pred_new = (y_pred > 0.5).astype(int)\n",
        "classification_report_eye = classification_report(y_test, y_pred_new)\n",
        "print(classification_report_eye)"
      ]
    },
    {
      "cell_type": "code",
      "execution_count": null,
      "metadata": {
        "colab": {
          "base_uri": "https://localhost:8080/"
        },
        "id": "XaXZwmKdW3CX",
        "outputId": "bcf023ac-1696-472d-ce30-b7a01ceae069"
      },
      "outputs": [
        {
          "output_type": "stream",
          "name": "stdout",
          "text": [
            "\u001b[1m4/4\u001b[0m \u001b[32m━━━━━━━━━━━━━━━━━━━━\u001b[0m\u001b[37m\u001b[0m \u001b[1m0s\u001b[0m 6ms/step \n",
            "              precision    recall  f1-score   support\n",
            "\n",
            "           0       0.81      0.70      0.75        56\n",
            "           1       0.67      0.80      0.73        44\n",
            "\n",
            "    accuracy                           0.74       100\n",
            "   macro avg       0.74      0.75      0.74       100\n",
            "weighted avg       0.75      0.74      0.74       100\n",
            "\n"
          ]
        }
      ],
      "source": [
        "from sklearn.metrics import roc_curve\n",
        "probabilities = model.predict(X_test)\n",
        "y_pred = (probabilities > 0.4).astype(int)\n",
        "report = classification_report(y_test, y_pred)\n",
        "print(report)"
      ]
    },
    {
      "cell_type": "code",
      "execution_count": null,
      "metadata": {
        "id": "frRpoJIBYAC-"
      },
      "outputs": [],
      "source": [
        "fpr, tpr, thresholds = roc_curve(y_test, probabilities)\n",
        "\n",
        "fpr[:5], tpr[:5], thresholds[:5]"
      ]
    },
    {
      "cell_type": "code",
      "execution_count": null,
      "metadata": {
        "id": "ePztH06pYBv1"
      },
      "outputs": [],
      "source": [
        "desired_recall = 0.9\n",
        "closest_index = np.argmin(abs(tpr-desired_recall))\n",
        "tpr[closest_index], thresholds[closest_index], fpr[closest_index]"
      ]
    },
    {
      "cell_type": "code",
      "execution_count": null,
      "metadata": {
        "id": "FxTjzJjHYSt4"
      },
      "outputs": [],
      "source": [
        "#Testing with new threshold 0.12\n",
        "from sklearn.metrics import roc_curve\n",
        "probabilities = model.predict(X_test)\n",
        "y_pred = (probabilities > 0.12).astype(int)\n",
        "report = classification_report(y_test, y_pred)\n",
        "print(report)"
      ]
    },
    {
      "cell_type": "code",
      "execution_count": null,
      "metadata": {
        "id": "19PUBHjvYZyg"
      },
      "outputs": [],
      "source": [
        "#Hence with a desired threshold of 0.12 we are able to achieve a recall of 0.91 thereby indicating a high performance in detecting TPS"
      ]
    },
    {
      "cell_type": "code",
      "source": [],
      "metadata": {
        "id": "YyKrK2LHCKtf"
      },
      "execution_count": null,
      "outputs": []
    }
  ],
  "metadata": {
    "accelerator": "GPU",
    "colab": {
      "gpuType": "T4",
      "provenance": [],
      "include_colab_link": true
    },
    "kernelspec": {
      "display_name": "Python 3",
      "name": "python3"
    },
    "language_info": {
      "codemirror_mode": {
        "name": "ipython",
        "version": 3
      },
      "file_extension": ".py",
      "mimetype": "text/x-python",
      "name": "python",
      "nbconvert_exporter": "python",
      "pygments_lexer": "ipython3",
      "version": "3.12.3"
    }
  },
  "nbformat": 4,
  "nbformat_minor": 0
}